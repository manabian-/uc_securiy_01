{
 "cells": [
  {
   "cell_type": "code",
   "execution_count": 0,
   "metadata": {
    "application/vnd.databricks.v1+cell": {
     "cellMetadata": {},
     "inputWidgets": {},
     "nuid": "4fb50334-dc38-475b-a1b7-9be81f2e8b45",
     "showTitle": false,
     "title": ""
    }
   },
   "outputs": [],
   "source": [
    "## S0 前提事項\n",
    "\n",
    "- アカウントレベルにて次のグループを作成して、それぞれのグループに所属したユーザーにて Databricks Workspace にログインしてセルを実行する。\n",
    "    - uc_test__uc_test_01__admin -> アカウント管理者グループ\n",
    "    -　uc_test_all_read-> 権限付与対象者グループ\n",
    "- 本ノートブックは、`uc_test__uc_test_01__admin`の実行を想定している。"
   ]
  },
  {
   "cell_type": "code",
   "execution_count": 0,
   "metadata": {
    "application/vnd.databricks.v1+cell": {
     "cellMetadata": {},
     "inputWidgets": {},
     "nuid": "4b00bb12-ec19-4450-9792-d07a2e77698a",
     "showTitle": false,
     "title": ""
    }
   },
   "outputs": [],
   "source": [
    "## S1 カタログ、スキーマ、テーブルの検証"
   ]
  },
  {
   "cell_type": "code",
   "execution_count": 0,
   "metadata": {
    "application/vnd.databricks.v1+cell": {
     "cellMetadata": {},
     "inputWidgets": {},
     "nuid": "6515ed19-fba6-40bc-8a2f-a8d4d4c2157d",
     "showTitle": false,
     "title": ""
    }
   },
   "outputs": [],
   "source": [
    "### S1-1 カタログ、スキーマ、テーブルの作成"
   ]
  },
  {
   "cell_type": "code",
   "execution_count": 0,
   "metadata": {
    "application/vnd.databricks.v1+cell": {
     "cellMetadata": {
      "byteLimit": 2048000,
      "rowLimit": 10000
     },
     "inputWidgets": {},
     "nuid": "72873178-5802-4553-b580-673db5bc56e7",
     "showTitle": false,
     "title": ""
    }
   },
   "outputs": [],
   "source": [
    "%sql\n",
    "-- カタログの作成\n",
    "CREATE CATALOG IF NOT EXISTS uc_test_01;\n",
    "ALTER CATALOG uc_test_01 OWNER TO uc_test__uc_test_01__admin;"
   ]
  },
  {
   "cell_type": "code",
   "execution_count": 0,
   "metadata": {
    "application/vnd.databricks.v1+cell": {
     "cellMetadata": {
      "byteLimit": 2048000,
      "rowLimit": 10000
     },
     "inputWidgets": {},
     "nuid": "05547705-1902-446d-bb88-d169b0be581b",
     "showTitle": false,
     "title": ""
    }
   },
   "outputs": [],
   "source": [
    "%sql\n",
    "DESCRIBE CATALOG uc_test_01"
   ]
  },
  {
   "cell_type": "code",
   "execution_count": 0,
   "metadata": {
    "application/vnd.databricks.v1+cell": {
     "cellMetadata": {
      "byteLimit": 2048000,
      "rowLimit": 10000
     },
     "inputWidgets": {},
     "nuid": "5e73a6cd-639a-4a82-8b58-558cceae9f7a",
     "showTitle": false,
     "title": ""
    }
   },
   "outputs": [],
   "source": [
    "%sql\n",
    "-- スキーマ作成\n",
    "CREATE SCHEMA IF NOT EXISTS uc_test_01.schema_01;\n",
    "ALTER SCHEMA uc_test_01.schema_01 OWNER TO uc_test__uc_test_01__admin;"
   ]
  },
  {
   "cell_type": "code",
   "execution_count": 0,
   "metadata": {
    "application/vnd.databricks.v1+cell": {
     "cellMetadata": {
      "byteLimit": 2048000,
      "rowLimit": 10000
     },
     "inputWidgets": {},
     "nuid": "754fec7e-4e43-4b7e-8202-e4f20f2abded",
     "showTitle": false,
     "title": ""
    }
   },
   "outputs": [],
   "source": [
    "%sql\n",
    "DESCRIBE SCHEMA uc_test_01.schema_01"
   ]
  },
  {
   "cell_type": "code",
   "execution_count": 0,
   "metadata": {
    "application/vnd.databricks.v1+cell": {
     "cellMetadata": {
      "byteLimit": 2048000,
      "rowLimit": 10000
     },
     "inputWidgets": {},
     "nuid": "9f15ebe0-11b7-4846-b6e5-7c8ebc3d6502",
     "showTitle": false,
     "title": ""
    }
   },
   "outputs": [],
   "source": [
    "%sql\n",
    "-- テーブル作成\n",
    "CREATE\n",
    "OR REPLACE table uc_test_01.schema_01.table_01 (\n",
    "  str_col string,\n",
    "  int_col int,\n",
    "  date_col date\n",
    ");\n",
    "ALTER TABLE\n",
    "  uc_test_01.schema_01.table_01 OWNER TO uc_test__uc_test_01__admin;"
   ]
  },
  {
   "cell_type": "code",
   "execution_count": 0,
   "metadata": {
    "application/vnd.databricks.v1+cell": {
     "cellMetadata": {
      "byteLimit": 2048000,
      "rowLimit": 10000
     },
     "inputWidgets": {},
     "nuid": "223b6776-8f77-4729-a4b1-467b35ae09ec",
     "showTitle": false,
     "title": ""
    }
   },
   "outputs": [],
   "source": [
    "%sql\n",
    "DESCRIBE TABLE uc_test_01.schema_01.table_01"
   ]
  },
  {
   "cell_type": "code",
   "execution_count": 0,
   "metadata": {
    "application/vnd.databricks.v1+cell": {
     "cellMetadata": {},
     "inputWidgets": {},
     "nuid": "950834d6-0ffe-418f-81cd-2d55502bc4cb",
     "showTitle": false,
     "title": ""
    }
   },
   "outputs": [],
   "source": [
    "\n",
    "### S1-2 スキーマのみへの権限付与"
   ]
  },
  {
   "cell_type": "code",
   "execution_count": 0,
   "metadata": {
    "application/vnd.databricks.v1+cell": {
     "cellMetadata": {
      "byteLimit": 2048000,
      "rowLimit": 10000
     },
     "inputWidgets": {},
     "nuid": "b0ed73a6-5326-4ca1-9003-f9fa5306d4c4",
     "showTitle": false,
     "title": ""
    }
   },
   "outputs": [],
   "source": [
    "%sql\n",
    "GRANT USE SCHEMA ON SCHEMA uc_test_01.schema_01 TO uc_test_all_read;\n",
    "GRANT\n",
    "SELECT\n",
    "  ON SCHEMA uc_test_01.schema_01 TO uc_test_all_read;"
   ]
  },
  {
   "cell_type": "code",
   "execution_count": 0,
   "metadata": {
    "application/vnd.databricks.v1+cell": {
     "cellMetadata": {
      "byteLimit": 2048000,
      "rowLimit": 10000
     },
     "inputWidgets": {},
     "nuid": "da19e5f1-5467-4806-a834-a130cc2e319f",
     "showTitle": false,
     "title": ""
    }
   },
   "outputs": [],
   "source": [
    "%sql\n",
    "SHOW GRANT ON CATALOG uc_test_01"
   ]
  },
  {
   "cell_type": "code",
   "execution_count": 0,
   "metadata": {
    "application/vnd.databricks.v1+cell": {
     "cellMetadata": {
      "byteLimit": 2048000,
      "rowLimit": 10000
     },
     "inputWidgets": {},
     "nuid": "19261e7a-2c60-4ba1-9a65-c923bfe59e74",
     "showTitle": false,
     "title": ""
    }
   },
   "outputs": [],
   "source": [
    "%sql\n",
    "SHOW GRANT ON SCHEMA uc_test_01.schema_01"
   ]
  },
  {
   "cell_type": "code",
   "execution_count": 0,
   "metadata": {
    "application/vnd.databricks.v1+cell": {
     "cellMetadata": {
      "byteLimit": 2048000,
      "rowLimit": 10000
     },
     "inputWidgets": {},
     "nuid": "71cc02c8-6712-4d32-a51d-15aa4321d170",
     "showTitle": false,
     "title": ""
    }
   },
   "outputs": [],
   "source": [
    "### S1-3 カタログへの権限付与"
   ]
  },
  {
   "cell_type": "code",
   "execution_count": 0,
   "metadata": {
    "application/vnd.databricks.v1+cell": {
     "cellMetadata": {
      "byteLimit": 2048000,
      "rowLimit": 10000
     },
     "inputWidgets": {},
     "nuid": "7f22d3c4-1c07-4429-b581-b696fc62ef23",
     "showTitle": false,
     "title": ""
    }
   },
   "outputs": [],
   "source": [
    "%sql\n",
    "GRANT USE CATALOG ON CATALOG uc_test_01 TO uc_test_all_read;"
   ]
  },
  {
   "cell_type": "code",
   "execution_count": 0,
   "metadata": {
    "application/vnd.databricks.v1+cell": {
     "cellMetadata": {
      "byteLimit": 2048000,
      "rowLimit": 10000
     },
     "inputWidgets": {},
     "nuid": "5f30ad81-e30b-4a67-b86c-ccda3a9eb6bd",
     "showTitle": false,
     "title": ""
    }
   },
   "outputs": [],
   "source": [
    "%sql\n",
    "SHOW GRANT ON CATALOG uc_test_01"
   ]
  },
  {
   "cell_type": "code",
   "execution_count": 0,
   "metadata": {
    "application/vnd.databricks.v1+cell": {
     "cellMetadata": {
      "byteLimit": 2048000,
      "rowLimit": 10000
     },
     "inputWidgets": {},
     "nuid": "acc50d90-bd1b-454d-be06-69815cf8e2a7",
     "showTitle": false,
     "title": ""
    }
   },
   "outputs": [],
   "source": [
    "## S2 関数と Volumes の検証"
   ]
  },
  {
   "cell_type": "code",
   "execution_count": 0,
   "metadata": {
    "application/vnd.databricks.v1+cell": {
     "cellMetadata": {},
     "inputWidgets": {},
     "nuid": "39b0e359-81e8-4b35-9844-24522908f6ce",
     "showTitle": false,
     "title": ""
    }
   },
   "outputs": [],
   "source": [
    "### S2-1 関数の作成"
   ]
  },
  {
   "cell_type": "code",
   "execution_count": 0,
   "metadata": {
    "application/vnd.databricks.v1+cell": {
     "cellMetadata": {
      "byteLimit": 2048000,
      "rowLimit": 10000
     },
     "inputWidgets": {},
     "nuid": "8ec3c192-a2cc-462b-b22a-447d45a07226",
     "showTitle": false,
     "title": ""
    }
   },
   "outputs": [],
   "source": [
    "%sql\n",
    "CREATE\n",
    "OR REPLACE FUNCTION uc_test_01.schema_01.get_rand_num() RETURNS float NOT DETERMINISTIC CONTAINS SQL RETURN rand();"
   ]
  },
  {
   "cell_type": "code",
   "execution_count": 0,
   "metadata": {
    "application/vnd.databricks.v1+cell": {
     "cellMetadata": {
      "byteLimit": 2048000,
      "rowLimit": 10000
     },
     "inputWidgets": {},
     "nuid": "bd96277e-6209-4756-8fd5-06ca1a18419b",
     "showTitle": false,
     "title": ""
    }
   },
   "outputs": [],
   "source": [
    "%sql\n",
    "SELECT\n",
    "  uc_test_01.schema_01.get_rand_num()"
   ]
  },
  {
   "cell_type": "code",
   "execution_count": 0,
   "metadata": {
    "application/vnd.databricks.v1+cell": {
     "cellMetadata": {
      "byteLimit": 2048000,
      "rowLimit": 10000
     },
     "inputWidgets": {},
     "nuid": "66a62422-c7a5-4cc3-a594-eb03257f53c5",
     "showTitle": false,
     "title": ""
    }
   },
   "outputs": [],
   "source": [
    "%sql\n",
    "DESCRIBE FUNCTION uc_test_01.schema_01.get_rand_num;"
   ]
  },
  {
   "cell_type": "code",
   "execution_count": 0,
   "metadata": {
    "application/vnd.databricks.v1+cell": {
     "cellMetadata": {},
     "inputWidgets": {},
     "nuid": "6cf8aedd-d035-4a1b-ac6e-f77b47fa732d",
     "showTitle": false,
     "title": ""
    }
   },
   "outputs": [],
   "source": [
    "# S2-2 関数への権限付与"
   ]
  },
  {
   "cell_type": "code",
   "execution_count": 0,
   "metadata": {
    "application/vnd.databricks.v1+cell": {
     "cellMetadata": {
      "byteLimit": 2048000,
      "rowLimit": 10000
     },
     "inputWidgets": {},
     "nuid": "0ef2f5f9-e0e0-49a2-945e-d957caccb0ec",
     "showTitle": false,
     "title": ""
    }
   },
   "outputs": [],
   "source": [
    "%sql\n",
    "GRANT EXECUTE ON CATALOG uc_test_01 TO uc_test_all_read;"
   ]
  },
  {
   "cell_type": "code",
   "execution_count": 0,
   "metadata": {
    "application/vnd.databricks.v1+cell": {
     "cellMetadata": {
      "byteLimit": 2048000,
      "rowLimit": 10000
     },
     "inputWidgets": {},
     "nuid": "52492669-e44d-4c8e-8d76-774f602484d9",
     "showTitle": false,
     "title": ""
    }
   },
   "outputs": [],
   "source": [
    "%sql\n",
    "SHOW GRANT ON SCHEMA uc_test_01.schema_01"
   ]
  },
  {
   "cell_type": "code",
   "execution_count": 0,
   "metadata": {
    "application/vnd.databricks.v1+cell": {
     "cellMetadata": {},
     "inputWidgets": {},
     "nuid": "8a658e3f-6233-47b2-9ce2-e1698494c6ea",
     "showTitle": false,
     "title": ""
    }
   },
   "outputs": [],
   "source": [
    "# S2-3 Volumes の作成"
   ]
  },
  {
   "cell_type": "code",
   "execution_count": 0,
   "metadata": {
    "application/vnd.databricks.v1+cell": {
     "cellMetadata": {
      "byteLimit": 2048000,
      "rowLimit": 10000
     },
     "inputWidgets": {},
     "nuid": "efba74c0-3a71-4d31-8128-fd89da97eabd",
     "showTitle": false,
     "title": ""
    }
   },
   "outputs": [],
   "source": [
    "%sql\n",
    "CREATE VOLUME IF NOT EXISTS uc_test_01.schema_01.volumes_01;\n",
    "ALTER VOLUME uc_test_01.schema_01.volumes_01 OWNER TO uc_test__uc_test_01__admin;"
   ]
  },
  {
   "cell_type": "code",
   "execution_count": 0,
   "metadata": {
    "application/vnd.databricks.v1+cell": {
     "cellMetadata": {
      "byteLimit": 2048000,
      "rowLimit": 10000
     },
     "inputWidgets": {},
     "nuid": "f8d2eb3b-92dd-46c6-b823-4d3fc80d8946",
     "showTitle": false,
     "title": ""
    }
   },
   "outputs": [],
   "source": [
    "%sql\n",
    "CREATE\n",
    "OR REPLACE TABLE delta.`/Volumes/uc_test_01/schema_01/volumes_01/delta_01` AS\n",
    "SELECT\n",
    "  \"abc\" AS string_col,\n",
    "  1 :: int AS int_col,\n",
    "  CAST('2020-01-01' AS date) AS date_col"
   ]
  },
  {
   "cell_type": "code",
   "execution_count": 0,
   "metadata": {
    "application/vnd.databricks.v1+cell": {
     "cellMetadata": {
      "byteLimit": 2048000,
      "rowLimit": 10000
     },
     "inputWidgets": {},
     "nuid": "726c67a0-5063-419d-8943-11dcb2d0d048",
     "showTitle": false,
     "title": ""
    }
   },
   "outputs": [],
   "source": [
    "%sql\n",
    "list '/Volumes/uc_test_01/schema_01/volumes_01/delta_01'"
   ]
  },
  {
   "cell_type": "code",
   "execution_count": 0,
   "metadata": {
    "application/vnd.databricks.v1+cell": {
     "cellMetadata": {
      "byteLimit": 2048000,
      "rowLimit": 10000
     },
     "inputWidgets": {},
     "nuid": "a4e2f883-44b2-4d0b-8cdc-3aec291c4f8f",
     "showTitle": false,
     "title": ""
    }
   },
   "outputs": [],
   "source": [
    "%sql\n",
    "-- ストレージ名が表示されてしまうため、一時的にコメントアウト\n",
    "-- DESCRIBE VOLUME uc_test_01.schema_01.volumes_01"
   ]
  },
  {
   "cell_type": "code",
   "execution_count": 0,
   "metadata": {
    "application/vnd.databricks.v1+cell": {
     "cellMetadata": {
      "byteLimit": 2048000,
      "rowLimit": 10000
     },
     "inputWidgets": {},
     "nuid": "c9ccea3c-77c5-4635-a0a8-a839d247cfd7",
     "showTitle": false,
     "title": ""
    }
   },
   "outputs": [],
   "source": [
    "%sql\n",
    "-- ストレージ名が表示されてしまうため、一時的にコメントアウト\n",
    "-- DESCRIBE DETAIL delta.`/Volumes/uc_test_01/schema_01/volumes_01/delta_01`;"
   ]
  },
  {
   "cell_type": "code",
   "execution_count": 0,
   "metadata": {
    "application/vnd.databricks.v1+cell": {
     "cellMetadata": {},
     "inputWidgets": {},
     "nuid": "bbbd7644-7fdf-4077-989d-6958e55fed81",
     "showTitle": false,
     "title": ""
    }
   },
   "outputs": [],
   "source": [
    "# S2-4 Volumes への権限付与"
   ]
  },
  {
   "cell_type": "code",
   "execution_count": 0,
   "metadata": {
    "application/vnd.databricks.v1+cell": {
     "cellMetadata": {
      "byteLimit": 2048000,
      "rowLimit": 10000
     },
     "inputWidgets": {},
     "nuid": "38de688d-e107-4d19-a3d5-0f6bbf7c41df",
     "showTitle": false,
     "title": ""
    }
   },
   "outputs": [],
   "source": [
    "%sql\n",
    "GRANT READ VOLUME ON SCHEMA uc_test_01.schema_01 TO uc_test_all_read;"
   ]
  },
  {
   "cell_type": "code",
   "execution_count": 0,
   "metadata": {
    "application/vnd.databricks.v1+cell": {
     "cellMetadata": {},
     "inputWidgets": {},
     "nuid": "ab7946bc-cbd7-4ded-979c-6f63869f86db",
     "showTitle": false,
     "title": ""
    }
   },
   "outputs": [],
   "source": [
    "# S3 動的ビューの検証"
   ]
  },
  {
   "cell_type": "code",
   "execution_count": 0,
   "metadata": {
    "application/vnd.databricks.v1+cell": {
     "cellMetadata": {},
     "inputWidgets": {},
     "nuid": "25cef642-cf0a-44a2-9164-f486d9fc343c",
     "showTitle": false,
     "title": ""
    }
   },
   "outputs": [],
   "source": [
    "# S3-0 事前準備"
   ]
  },
  {
   "cell_type": "code",
   "execution_count": 0,
   "metadata": {
    "application/vnd.databricks.v1+cell": {
     "cellMetadata": {
      "byteLimit": 2048000,
      "rowLimit": 10000
     },
     "inputWidgets": {},
     "nuid": "e0786eeb-4d8d-4898-8a35-8fff19d6db89",
     "showTitle": false,
     "title": ""
    }
   },
   "outputs": [],
   "source": [
    "%sql\n",
    "CREATE CATALOG IF NOT EXISTS uc_test_02;\n",
    "ALTER CATALOG uc_test_02 OWNER TO uc_test__uc_test_01__admin;"
   ]
  },
  {
   "cell_type": "code",
   "execution_count": 0,
   "metadata": {
    "application/vnd.databricks.v1+cell": {
     "cellMetadata": {
      "byteLimit": 2048000,
      "rowLimit": 10000
     },
     "inputWidgets": {},
     "nuid": "f3428119-1760-4437-a644-0a12be3b0ed3",
     "showTitle": false,
     "title": ""
    }
   },
   "outputs": [],
   "source": [
    "%sql\n",
    "CREATE SCHEMA IF NOT EXISTS uc_test_02.schema_01;\n",
    "ALTER SCHEMA uc_test_02.schema_01 OWNER TO uc_test__uc_test_01__admin;"
   ]
  },
  {
   "cell_type": "code",
   "execution_count": 0,
   "metadata": {
    "application/vnd.databricks.v1+cell": {
     "cellMetadata": {
      "byteLimit": 2048000,
      "rowLimit": 10000
     },
     "inputWidgets": {},
     "nuid": "d70d8d73-ced1-469d-84b5-e4349fea0228",
     "showTitle": false,
     "title": ""
    }
   },
   "outputs": [],
   "source": [
    "%sql\n",
    "CREATE TABLE uc_test_02.schema_01.src_table AS\n",
    "SELECT\n",
    "  \"A\" AS COMPANY_CODE,\n",
    "  \"A会社\" AS COMPANY_NAME,\n",
    "  100 AS SALES_AMOUNT\n",
    "UNION ALL\n",
    "SELECT\n",
    "  \"B\" AS COMPANY_CODE,\n",
    "  \"B会社\" AS COMPANY_NAME,\n",
    "  200 AS SALES_AMOUNT\n",
    "UNION ALL\n",
    "SELECT\n",
    "  \"C\" AS COMPANY_CODE,\n",
    "  \"C会社\" AS COMPANY_NAME,\n",
    "  300 AS SALES_AMOUNT"
   ]
  },
  {
   "cell_type": "code",
   "execution_count": 0,
   "metadata": {
    "application/vnd.databricks.v1+cell": {
     "cellMetadata": {
      "byteLimit": 2048000,
      "rowLimit": 10000
     },
     "inputWidgets": {},
     "nuid": "74d022b5-280e-46c5-b643-063a0a697d2d",
     "showTitle": false,
     "title": ""
    }
   },
   "outputs": [],
   "source": [
    "%sql\n",
    "SELECT\n",
    "  *\n",
    "FROM\n",
    "  uc_test_02.schema_01.src_table"
   ]
  },
  {
   "cell_type": "code",
   "execution_count": 0,
   "metadata": {
    "application/vnd.databricks.v1+cell": {
     "cellMetadata": {
      "byteLimit": 2048000,
      "rowLimit": 10000
     },
     "inputWidgets": {},
     "nuid": "eb298822-14eb-4c3d-893a-2b8a34914090",
     "showTitle": false,
     "title": ""
    }
   },
   "outputs": [],
   "source": [
    "%sql\n",
    "-- 動的ビューを配置するスキーマを作成\n",
    "CREATE SCHEMA IF NOT EXISTS uc_test_02.schema_dyanamic_view;\n",
    "ALTER SCHEMA uc_test_02.schema_dyanamic_view OWNER TO uc_test__uc_test_01__admin;"
   ]
  },
  {
   "cell_type": "code",
   "execution_count": 0,
   "metadata": {
    "application/vnd.databricks.v1+cell": {
     "cellMetadata": {
      "byteLimit": 2048000,
      "rowLimit": 10000
     },
     "inputWidgets": {},
     "nuid": "fff1637c-b710-4f25-a677-94510443f7b0",
     "showTitle": false,
     "title": ""
    }
   },
   "outputs": [],
   "source": [
    "%sql\n",
    "-- 動的ビューを配置するスキーマへの権限を付与\n",
    "GRANT USE CATALOG ON CATALOG uc_test_02 TO uc_test_all_read;\n",
    "GRANT USE SCHEMA ON SCHEMA uc_test_02.schema_dyanamic_view TO uc_test_all_read;\n",
    "GRANT\n",
    "SELECT\n",
    "  ON SCHEMA uc_test_02.schema_dyanamic_view TO uc_test_all_read;"
   ]
  },
  {
   "cell_type": "code",
   "execution_count": 0,
   "metadata": {
    "application/vnd.databricks.v1+cell": {
     "cellMetadata": {},
     "inputWidgets": {},
     "nuid": "7e6f1e02-19f6-4e94-af25-ef571386d092",
     "showTitle": false,
     "title": ""
    }
   },
   "outputs": [],
   "source": [
    "### S3-1 列レベルのアクセス許可"
   ]
  },
  {
   "cell_type": "code",
   "execution_count": 0,
   "metadata": {
    "application/vnd.databricks.v1+cell": {
     "cellMetadata": {
      "byteLimit": 2048000,
      "rowLimit": 10000
     },
     "inputWidgets": {},
     "nuid": "573c5524-4f76-4531-9510-c79f83377c7d",
     "showTitle": false,
     "title": ""
    }
   },
   "outputs": [],
   "source": [
    "%sql\n",
    "CREATE\n",
    "OR REPLACE VIEW uc_test_02.schema_dyanamic_view.column_level_permissions AS\n",
    "SELECT\n",
    "  CASE\n",
    "    WHEN is_account_group_member('uc_test__uc_test_01__admin') THEN COMPANY_CODE\n",
    "    WHEN is_account_group_member('uc_test_all_read')\n",
    "    AND COMPANY_CODE = \"A\" THEN COMPANY_CODE\n",
    "    ELSE 'REDACTED'\n",
    "  END AS COMPANY_CODE,\n",
    "  CASE\n",
    "    WHEN is_account_group_member('uc_test__uc_test_01__admin') THEN COMPANY_NAME\n",
    "    WHEN is_account_group_member('uc_test_all_read')\n",
    "    AND COMPANY_CODE = \"A\" THEN COMPANY_NAME\n",
    "    ELSE 'REDACTED'\n",
    "  END AS COMPANY_NAME,\n",
    "  SALES_AMOUNT\n",
    "FROM\n",
    "  uc_test_02.schema_01.src_table"
   ]
  },
  {
   "cell_type": "code",
   "execution_count": 0,
   "metadata": {
    "application/vnd.databricks.v1+cell": {
     "cellMetadata": {
      "byteLimit": 2048000,
      "rowLimit": 10000
     },
     "inputWidgets": {},
     "nuid": "c4ac8d21-0c73-4d9b-8a03-525d1fb672d2",
     "showTitle": false,
     "title": ""
    }
   },
   "outputs": [],
   "source": [
    "%sql\n",
    "SELECT\n",
    "  *\n",
    "FROM\n",
    "  uc_test_02.schema_dyanamic_view.column_level_permissions"
   ]
  },
  {
   "cell_type": "code",
   "execution_count": 0,
   "metadata": {
    "application/vnd.databricks.v1+cell": {
     "cellMetadata": {},
     "inputWidgets": {},
     "nuid": "0eab86f1-f5b8-48c7-b27c-19c66503abfe",
     "showTitle": false,
     "title": ""
    }
   },
   "outputs": [],
   "source": [
    "### S3-2 行レベルのアクセス許可"
   ]
  },
  {
   "cell_type": "code",
   "execution_count": 0,
   "metadata": {
    "application/vnd.databricks.v1+cell": {
     "cellMetadata": {
      "byteLimit": 2048000,
      "rowLimit": 10000
     },
     "inputWidgets": {},
     "nuid": "9d133400-664f-4aaa-a63c-867b664cc2c3",
     "showTitle": false,
     "title": ""
    }
   },
   "outputs": [],
   "source": [
    "%sql\n",
    "CREATE VIEW uc_test_02.schema_dyanamic_view.row_level_permissions AS\n",
    "SELECT\n",
    "  COMPANY_CODE,\n",
    "  COMPANY_NAME,\n",
    "  SALES_AMOUNT\n",
    "FROM\n",
    "  uc_test_02.schema_01.src_table\n",
    "WHERE\n",
    "  CASE\n",
    "    WHEN is_account_group_member('uc_test__uc_test_01__admin') THEN TRUE\n",
    "    WHEN is_account_group_member('uc_test_all_read')\n",
    "    AND COMPANY_CODE = \"A\" THEN TRUE\n",
    "    ELSE FALSE\n",
    "  END;"
   ]
  },
  {
   "cell_type": "code",
   "execution_count": 0,
   "metadata": {
    "application/vnd.databricks.v1+cell": {
     "cellMetadata": {
      "byteLimit": 2048000,
      "rowLimit": 10000
     },
     "inputWidgets": {},
     "nuid": "06336549-18d9-465d-8dfc-aacd937d2e32",
     "showTitle": false,
     "title": ""
    }
   },
   "outputs": [],
   "source": [
    "%sql\n",
    "SELECT\n",
    "  *\n",
    "FROM\n",
    "  uc_test_02.schema_dyanamic_view.row_level_permissions"
   ]
  },
  {
   "cell_type": "code",
   "execution_count": 0,
   "metadata": {
    "application/vnd.databricks.v1+cell": {
     "cellMetadata": {},
     "inputWidgets": {},
     "nuid": "6ed88804-0cb2-41d7-8001-67f5caae209f",
     "showTitle": false,
     "title": ""
    }
   },
   "outputs": [],
   "source": [
    "## S4 ユースケース別ワークフローの検証"
   ]
  },
  {
   "cell_type": "code",
   "execution_count": 0,
   "metadata": {
    "application/vnd.databricks.v1+cell": {
     "cellMetadata": {},
     "inputWidgets": {},
     "nuid": "a50be5c9-f822-4023-947a-57fd0eabcc05",
     "showTitle": false,
     "title": ""
    }
   },
   "outputs": [],
   "source": [
    "### S4-1 カタログの払出検証"
   ]
  },
  {
   "cell_type": "code",
   "execution_count": 0,
   "metadata": {
    "application/vnd.databricks.v1+cell": {
     "cellMetadata": {
      "byteLimit": 2048000,
      "rowLimit": 10000
     },
     "inputWidgets": {},
     "nuid": "ffb261aa-8a21-4730-91e5-32006b427d0d",
     "showTitle": false,
     "title": ""
    }
   },
   "outputs": [],
   "source": [
    "%sql\n",
    "CREATE CATALOG IF NOT EXISTS uc_test_50"
   ]
  },
  {
   "cell_type": "code",
   "execution_count": 0,
   "metadata": {
    "application/vnd.databricks.v1+cell": {
     "cellMetadata": {
      "byteLimit": 2048000,
      "rowLimit": 10000
     },
     "inputWidgets": {},
     "nuid": "ebfe3d3b-cdca-4650-9680-be77ff36f790",
     "showTitle": false,
     "title": ""
    }
   },
   "outputs": [],
   "source": [
    "%sql\n",
    "-- 権原付与\n",
    "ALTER CATALOG uc_test_50 OWNER TO uc_test_all_read;\n",
    "GRANT ALL PRIVILEGES ON CATALOG uc_test_50 TO uc_test_all_read;"
   ]
  },
  {
   "cell_type": "code",
   "execution_count": 0,
   "metadata": {
    "application/vnd.databricks.v1+cell": {
     "cellMetadata": {
      "byteLimit": 2048000,
      "rowLimit": 10000
     },
     "inputWidgets": {},
     "nuid": "bb2daa90-53fb-4c62-bcf2-4b3c1ff35bbd",
     "showTitle": false,
     "title": ""
    }
   },
   "outputs": [],
   "source": [
    "%sql\n",
    "DESCRIBE CATALOG uc_test_50"
   ]
  },
  {
   "cell_type": "code",
   "execution_count": 0,
   "metadata": {
    "application/vnd.databricks.v1+cell": {
     "cellMetadata": {},
     "inputWidgets": {},
     "nuid": "40ae7c77-e7e9-4118-a10e-a5dc2184e971",
     "showTitle": false,
     "title": ""
    }
   },
   "outputs": [],
   "source": [
    "### S4-2 スキーマの払出検証"
   ]
  },
  {
   "cell_type": "code",
   "execution_count": 0,
   "metadata": {
    "application/vnd.databricks.v1+cell": {
     "cellMetadata": {
      "byteLimit": 2048000,
      "rowLimit": 10000
     },
     "inputWidgets": {},
     "nuid": "5263808a-482d-4a11-9150-ff410e1ae8f2",
     "showTitle": false,
     "title": ""
    }
   },
   "outputs": [],
   "source": [
    "%sql\n",
    "CREATE CATALOG IF NOT EXISTS uc_test_51;\n",
    "ALTER CATALOG uc_test_50 OWNER TO uc_test__uc_test_01__admin;"
   ]
  },
  {
   "cell_type": "code",
   "execution_count": 0,
   "metadata": {
    "application/vnd.databricks.v1+cell": {
     "cellMetadata": {
      "byteLimit": 2048000,
      "rowLimit": 10000
     },
     "inputWidgets": {},
     "nuid": "bf7176e4-f225-48c1-ab35-e1850e700650",
     "showTitle": false,
     "title": ""
    }
   },
   "outputs": [],
   "source": [
    "%sql\n",
    "CREATE SCHEMA IF NOT EXISTS uc_test_51.schema_01;"
   ]
  },
  {
   "cell_type": "code",
   "execution_count": 0,
   "metadata": {
    "application/vnd.databricks.v1+cell": {
     "cellMetadata": {
      "byteLimit": 2048000,
      "rowLimit": 10000
     },
     "inputWidgets": {},
     "nuid": "74a7e0cb-3620-43ed-8e16-aafdb79cb7e2",
     "showTitle": false,
     "title": ""
    }
   },
   "outputs": [],
   "source": [
    "%sql\n",
    "-- 権原付与\n",
    "ALTER SCHEMA uc_test_51.schema_01 OWNER TO uc_test_all_read;\n",
    "GRANT USE CATALOG ON CATALOG uc_test_51 TO uc_test_all_read;\n",
    "GRANT ALL PRIVILEGES ON SCHEMA uc_test_51.schema_01 TO uc_test_all_read;"
   ]
  },
  {
   "cell_type": "code",
   "execution_count": 0,
   "metadata": {
    "application/vnd.databricks.v1+cell": {
     "cellMetadata": {},
     "inputWidgets": {},
     "nuid": "63622a6b-c3d1-4885-95c0-166032c5cc4a",
     "showTitle": false,
     "title": ""
    }
   },
   "outputs": [],
   "source": [
    "## S9 リソースの削除"
   ]
  },
  {
   "cell_type": "code",
   "execution_count": 0,
   "metadata": {
    "application/vnd.databricks.v1+cell": {
     "cellMetadata": {
      "byteLimit": 2048000,
      "rowLimit": 10000
     },
     "inputWidgets": {},
     "nuid": "446a7325-06cc-4d69-afa7-9cf4bdf8a8de",
     "showTitle": false,
     "title": ""
    }
   },
   "outputs": [],
   "source": [
    "%sql\n",
    "DROP CATALOG uc_test_01 CASCADE;"
   ]
  },
  {
   "cell_type": "code",
   "execution_count": 0,
   "metadata": {
    "application/vnd.databricks.v1+cell": {
     "cellMetadata": {
      "byteLimit": 2048000,
      "rowLimit": 10000
     },
     "inputWidgets": {},
     "nuid": "f400fa00-970f-4667-ab7b-f88adaeb5fa8",
     "showTitle": false,
     "title": ""
    }
   },
   "outputs": [],
   "source": [
    "%sql\n",
    "DROP CATALOG uc_test_02 CASCADE;"
   ]
  },
  {
   "cell_type": "code",
   "execution_count": 0,
   "metadata": {
    "application/vnd.databricks.v1+cell": {
     "cellMetadata": {
      "byteLimit": 2048000,
      "rowLimit": 10000
     },
     "inputWidgets": {},
     "nuid": "32777415-3a5f-4c27-8447-cdaef2b50d15",
     "showTitle": false,
     "title": ""
    }
   },
   "outputs": [],
   "source": [
    "%sql\n",
    "DROP CATALOG uc_test_50 CASCADE;"
   ]
  }
 ],
 "metadata": {
  "application/vnd.databricks.v1+notebook": {
   "dashboards": [],
   "language": "python",
   "notebookMetadata": {
    "pythonIndentUnit": 4
   },
   "notebookName": "T01_adimin__uc_basic",
   "widgets": {}
  }
 },
 "nbformat": 4,
 "nbformat_minor": 0
}
