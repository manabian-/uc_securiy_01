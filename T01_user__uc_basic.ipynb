{
 "cells": [
  {
   "cell_type": "code",
   "execution_count": 0,
   "metadata": {
    "application/vnd.databricks.v1+cell": {
     "cellMetadata": {},
     "inputWidgets": {},
     "nuid": "4262b8cb-d30f-4e98-99ad-5edf8f124665",
     "showTitle": false,
     "title": ""
    }
   },
   "outputs": [],
   "source": [
    "## S0 前提事項\n",
    "\n",
    "- アカウントレベルにて次のグループを作成して、それぞれのグループに所属したユーザーにて Databricks Workspace にログインしてセルを実行する。\n",
    "    - uc_test__uc_test_01__admin -> アカウント管理者グループ\n",
    "    -　uc_test_all_read-> 権限付与対象者グループ\n",
    "- 本ノートブックは、`　uc_test_all_read`の実行を想定している。"
   ]
  },
  {
   "cell_type": "code",
   "execution_count": 0,
   "metadata": {
    "application/vnd.databricks.v1+cell": {
     "cellMetadata": {},
     "inputWidgets": {},
     "nuid": "dedb43bb-3006-4101-b0df-2ab700d0612c",
     "showTitle": false,
     "title": ""
    }
   },
   "outputs": [],
   "source": [
    "## S1 カタログ、スキーマ、テーブルの検証"
   ]
  },
  {
   "cell_type": "code",
   "execution_count": 0,
   "metadata": {
    "application/vnd.databricks.v1+cell": {
     "cellMetadata": {},
     "inputWidgets": {},
     "nuid": "4b00bb12-ec19-4450-9792-d07a2e77698a",
     "showTitle": false,
     "title": ""
    }
   },
   "outputs": [],
   "source": [
    "### S1-1 カタログ、スキーマ、テーブルの作成"
   ]
  },
  {
   "cell_type": "code",
   "execution_count": 0,
   "metadata": {
    "application/vnd.databricks.v1+cell": {
     "cellMetadata": {
      "byteLimit": 2048000,
      "rowLimit": 10000
     },
     "inputWidgets": {},
     "nuid": "6c4416e4-94b0-4563-99f2-3f2db77c662d",
     "showTitle": false,
     "title": ""
    }
   },
   "outputs": [],
   "source": [
    "%sql\n",
    "-- 権限不足で確認できない想定\n",
    "DESCRIBE CATALOG uc_test_01"
   ]
  },
  {
   "cell_type": "code",
   "execution_count": 0,
   "metadata": {
    "application/vnd.databricks.v1+cell": {
     "cellMetadata": {
      "byteLimit": 2048000,
      "rowLimit": 10000
     },
     "inputWidgets": {},
     "nuid": "11cb8a39-351a-4863-b382-60ee0c98143a",
     "showTitle": false,
     "title": ""
    }
   },
   "outputs": [],
   "source": [
    "%sql\n",
    "-- 権限不足で確認できない想定\n",
    "DESCRIBE SCHEMA uc_test_01.schema_01"
   ]
  },
  {
   "cell_type": "code",
   "execution_count": 0,
   "metadata": {
    "application/vnd.databricks.v1+cell": {
     "cellMetadata": {
      "byteLimit": 2048000,
      "rowLimit": 10000
     },
     "inputWidgets": {},
     "nuid": "f7d01507-041f-44cb-bcd2-e1fc1a610e7b",
     "showTitle": false,
     "title": ""
    }
   },
   "outputs": [],
   "source": [
    "%sql\n",
    "-- 権限不足で確認できない想定\n",
    "DESCRIBE TABLE uc_test_01.schema_01.table_01"
   ]
  },
  {
   "cell_type": "code",
   "execution_count": 0,
   "metadata": {
    "application/vnd.databricks.v1+cell": {
     "cellMetadata": {},
     "inputWidgets": {},
     "nuid": "6ea7ca83-2f11-4801-b512-852dec5a8e85",
     "showTitle": false,
     "title": ""
    }
   },
   "outputs": [],
   "source": [
    "### S1-2 スキーマのみへの権限付与"
   ]
  },
  {
   "cell_type": "code",
   "execution_count": 0,
   "metadata": {
    "application/vnd.databricks.v1+cell": {
     "cellMetadata": {
      "byteLimit": 2048000,
      "rowLimit": 10000
     },
     "inputWidgets": {},
     "nuid": "3629d984-dc90-44e2-a8e4-bf53bc0e5d18",
     "showTitle": false,
     "title": ""
    }
   },
   "outputs": [],
   "source": [
    "%sql\n",
    "-- `USE CATALOG`権限の不足で確認できない想定\n",
    "DESCRIBE SCHEMA uc_test_01.schema_01"
   ]
  },
  {
   "cell_type": "code",
   "execution_count": 0,
   "metadata": {
    "application/vnd.databricks.v1+cell": {
     "cellMetadata": {},
     "inputWidgets": {},
     "nuid": "14159ad4-0e92-48f7-9d94-bfcb6e80d09d",
     "showTitle": false,
     "title": ""
    }
   },
   "outputs": [],
   "source": [
    "### S1-3 カタログへの権限付与"
   ]
  },
  {
   "cell_type": "code",
   "execution_count": 0,
   "metadata": {
    "application/vnd.databricks.v1+cell": {
     "cellMetadata": {
      "byteLimit": 2048000,
      "rowLimit": 10000
     },
     "inputWidgets": {},
     "nuid": "d618235e-f0a7-4b3f-8cdd-f382615148f3",
     "showTitle": false,
     "title": ""
    }
   },
   "outputs": [],
   "source": [
    "%sql\n",
    "-- 表示される想定\n",
    "DESCRIBE SCHEMA uc_test_01.schema_01"
   ]
  },
  {
   "cell_type": "code",
   "execution_count": 0,
   "metadata": {
    "application/vnd.databricks.v1+cell": {
     "cellMetadata": {
      "byteLimit": 2048000,
      "rowLimit": 10000
     },
     "inputWidgets": {},
     "nuid": "912dd986-cbe6-4fdc-abfd-891d2d7cb088",
     "showTitle": false,
     "title": ""
    }
   },
   "outputs": [],
   "source": [
    "%sql\n",
    "-- 表示される想定\n",
    "DESCRIBE SCHEMA uc_test_01.schema_01"
   ]
  },
  {
   "cell_type": "code",
   "execution_count": 0,
   "metadata": {
    "application/vnd.databricks.v1+cell": {
     "cellMetadata": {
      "byteLimit": 2048000,
      "rowLimit": 10000
     },
     "inputWidgets": {},
     "nuid": "83347655-b417-4026-a79c-32f6893a2721",
     "showTitle": false,
     "title": ""
    }
   },
   "outputs": [],
   "source": [
    "%sql\n",
    "-- 表示される想定\n",
    "DESCRIBE TABLE uc_test_01.schema_01.table_01"
   ]
  },
  {
   "cell_type": "code",
   "execution_count": 0,
   "metadata": {
    "application/vnd.databricks.v1+cell": {
     "cellMetadata": {},
     "inputWidgets": {},
     "nuid": "f1a78528-58a4-4aa6-9723-e1114cb20d35",
     "showTitle": false,
     "title": ""
    }
   },
   "outputs": [],
   "source": [
    "## S2 関数と Volumes の検証"
   ]
  },
  {
   "cell_type": "code",
   "execution_count": 0,
   "metadata": {
    "application/vnd.databricks.v1+cell": {
     "cellMetadata": {},
     "inputWidgets": {},
     "nuid": "b1de7c40-9820-4870-bb8d-c33c0e0742fc",
     "showTitle": false,
     "title": ""
    }
   },
   "outputs": [],
   "source": [
    "### S2-1 関数の作成"
   ]
  },
  {
   "cell_type": "code",
   "execution_count": 0,
   "metadata": {
    "application/vnd.databricks.v1+cell": {
     "cellMetadata": {
      "byteLimit": 2048000,
      "rowLimit": 10000
     },
     "inputWidgets": {},
     "nuid": "89570331-e7e1-47bc-a33c-2014f6bc4350",
     "showTitle": false,
     "title": ""
    }
   },
   "outputs": [],
   "source": [
    "%sql\n",
    "-- 権限不足で実行できない想定\n",
    "SELECT \n",
    "  uc_test_01.schema_01.get_rand_num()"
   ]
  },
  {
   "cell_type": "code",
   "execution_count": 0,
   "metadata": {
    "application/vnd.databricks.v1+cell": {
     "cellMetadata": {
      "byteLimit": 2048000,
      "rowLimit": 10000
     },
     "inputWidgets": {},
     "nuid": "116e4257-da20-4292-8a1e-8e6723dc8e64",
     "showTitle": false,
     "title": ""
    }
   },
   "outputs": [],
   "source": [
    "%sql\n",
    "-- 権限不足で表示できない想定\n",
    "DESCRIBE FUNCTION uc_test_01.schema_01.get_rand_num;"
   ]
  },
  {
   "cell_type": "code",
   "execution_count": 0,
   "metadata": {
    "application/vnd.databricks.v1+cell": {
     "cellMetadata": {},
     "inputWidgets": {},
     "nuid": "7304f969-2e57-4c28-ae5a-d1075ebae016",
     "showTitle": false,
     "title": ""
    }
   },
   "outputs": [],
   "source": [
    "# S2-2 関数への権限付与"
   ]
  },
  {
   "cell_type": "code",
   "execution_count": 0,
   "metadata": {
    "application/vnd.databricks.v1+cell": {
     "cellMetadata": {
      "byteLimit": 2048000,
      "rowLimit": 10000
     },
     "inputWidgets": {},
     "nuid": "f175a8ab-f67f-4d4d-a02e-35968c26d44b",
     "showTitle": false,
     "title": ""
    }
   },
   "outputs": [],
   "source": [
    "%sql\n",
    "-- 実行できる想定\n",
    "SELECT \n",
    "  uc_test_01.schema_01.get_rand_num()"
   ]
  },
  {
   "cell_type": "code",
   "execution_count": 0,
   "metadata": {
    "application/vnd.databricks.v1+cell": {
     "cellMetadata": {
      "byteLimit": 2048000,
      "rowLimit": 10000
     },
     "inputWidgets": {},
     "nuid": "e2152273-684a-42ed-afdb-a189b8a5d399",
     "showTitle": false,
     "title": ""
    }
   },
   "outputs": [],
   "source": [
    "%sql\n",
    "-- 表示できる想定\n",
    "DESCRIBE FUNCTION uc_test_01.schema_01.get_rand_num;"
   ]
  },
  {
   "cell_type": "code",
   "execution_count": 0,
   "metadata": {
    "application/vnd.databricks.v1+cell": {
     "cellMetadata": {},
     "inputWidgets": {},
     "nuid": "6b37b4d4-58f7-4cc4-881e-df7774ddf1b2",
     "showTitle": false,
     "title": ""
    }
   },
   "outputs": [],
   "source": [
    "# S2-3 Volumes の作成"
   ]
  },
  {
   "cell_type": "code",
   "execution_count": 0,
   "metadata": {
    "application/vnd.databricks.v1+cell": {
     "cellMetadata": {
      "byteLimit": 2048000,
      "rowLimit": 10000
     },
     "inputWidgets": {},
     "nuid": "aba985d0-fb15-4f2c-9322-d384f8075e8a",
     "showTitle": false,
     "title": ""
    }
   },
   "outputs": [],
   "source": [
    "%sql\n",
    "-- 権限不足で表示できない想定\n",
    "list '/Volumes/uc_test_01/schema_01/volumes_01/delta_01'"
   ]
  },
  {
   "cell_type": "code",
   "execution_count": 0,
   "metadata": {
    "application/vnd.databricks.v1+cell": {
     "cellMetadata": {},
     "inputWidgets": {},
     "nuid": "8ff10445-c3bc-445a-8104-2db11d9bd5b7",
     "showTitle": false,
     "title": ""
    }
   },
   "outputs": [],
   "source": [
    "# S2-4 Volumes への権限付与"
   ]
  },
  {
   "cell_type": "code",
   "execution_count": 0,
   "metadata": {
    "application/vnd.databricks.v1+cell": {
     "cellMetadata": {
      "byteLimit": 2048000,
      "rowLimit": 10000
     },
     "inputWidgets": {},
     "nuid": "88f29469-1fba-4a71-aecf-d0050663b467",
     "showTitle": false,
     "title": ""
    }
   },
   "outputs": [],
   "source": [
    "%sql\n",
    "-- 表示できる想定\n",
    "list '/Volumes/uc_test_01/schema_01/volumes_01/delta_01'"
   ]
  },
  {
   "cell_type": "code",
   "execution_count": 0,
   "metadata": {
    "application/vnd.databricks.v1+cell": {
     "cellMetadata": {
      "byteLimit": 2048000,
      "rowLimit": 10000
     },
     "inputWidgets": {},
     "nuid": "dc5ecefe-6fbe-4af0-8b41-5c23872991bc",
     "showTitle": false,
     "title": ""
    }
   },
   "outputs": [],
   "source": [
    "%sql\n",
    "-- 表示できる想定\n",
    "-- ストレージ名が表示されてしまうため、一時的にコメントアウト\n",
    "-- DESCRIBE VOLUME uc_test_01.schema_01.volumes_01"
   ]
  },
  {
   "cell_type": "code",
   "execution_count": 0,
   "metadata": {
    "application/vnd.databricks.v1+cell": {
     "cellMetadata": {},
     "inputWidgets": {},
     "nuid": "84280f2e-b55a-4986-b272-01bc2127b322",
     "showTitle": false,
     "title": ""
    }
   },
   "outputs": [],
   "source": [
    "# S3 動的ビューの検証"
   ]
  },
  {
   "cell_type": "code",
   "execution_count": 0,
   "metadata": {
    "application/vnd.databricks.v1+cell": {
     "cellMetadata": {},
     "inputWidgets": {},
     "nuid": "a632749e-3b05-4417-a605-175c781da778",
     "showTitle": false,
     "title": ""
    }
   },
   "outputs": [],
   "source": [
    "# S3-0 事前準備"
   ]
  },
  {
   "cell_type": "code",
   "execution_count": 0,
   "metadata": {
    "application/vnd.databricks.v1+cell": {
     "cellMetadata": {
      "byteLimit": 2048000,
      "rowLimit": 10000
     },
     "inputWidgets": {},
     "nuid": "77068024-aeeb-48bb-a4c8-c06dc0467847",
     "showTitle": false,
     "title": ""
    }
   },
   "outputs": [],
   "source": [
    "%sql\n",
    "-- 権限不足で表示できない想定\n",
    "DESC SCHEMA uc_test_02.schema_01"
   ]
  },
  {
   "cell_type": "code",
   "execution_count": 0,
   "metadata": {
    "application/vnd.databricks.v1+cell": {
     "cellMetadata": {
      "byteLimit": 2048000,
      "rowLimit": 10000
     },
     "inputWidgets": {},
     "nuid": "1bced21e-9d14-4cbb-9290-36869e07b0e4",
     "showTitle": false,
     "title": ""
    }
   },
   "outputs": [],
   "source": [
    "%sql\n",
    "-- 表示できる想定\n",
    "DESC SCHEMA uc_test_02.schema_dyanamic_view"
   ]
  },
  {
   "cell_type": "code",
   "execution_count": 0,
   "metadata": {
    "application/vnd.databricks.v1+cell": {
     "cellMetadata": {},
     "inputWidgets": {},
     "nuid": "b80e65bf-1d44-4feb-9c54-f62e84a15a3f",
     "showTitle": false,
     "title": ""
    }
   },
   "outputs": [],
   "source": [
    "# S3-1 列レベルのアクセス許可"
   ]
  },
  {
   "cell_type": "code",
   "execution_count": 0,
   "metadata": {
    "application/vnd.databricks.v1+cell": {
     "cellMetadata": {
      "byteLimit": 2048000,
      "rowLimit": 10000
     },
     "inputWidgets": {},
     "nuid": "8a5833fb-8d8c-43ef-8627-1e4d87cd9219",
     "showTitle": false,
     "title": ""
    }
   },
   "outputs": [],
   "source": [
    "%sql\n",
    "SELECT\n",
    "*\n",
    "FROM \n",
    "    uc_test_02.schema_dyanamic_view.column_level_permissions"
   ]
  },
  {
   "cell_type": "code",
   "execution_count": 0,
   "metadata": {
    "application/vnd.databricks.v1+cell": {
     "cellMetadata": {},
     "inputWidgets": {},
     "nuid": "5c4acc25-5eed-41a7-bb57-1ab88f58609c",
     "showTitle": false,
     "title": ""
    }
   },
   "outputs": [],
   "source": [
    "### S3-2 行レベルのアクセス許可"
   ]
  },
  {
   "cell_type": "code",
   "execution_count": 0,
   "metadata": {
    "application/vnd.databricks.v1+cell": {
     "cellMetadata": {
      "byteLimit": 2048000,
      "rowLimit": 10000
     },
     "inputWidgets": {},
     "nuid": "88599c76-a483-43f6-9345-7185a5071c0e",
     "showTitle": false,
     "title": ""
    }
   },
   "outputs": [],
   "source": [
    "%sql\n",
    "SELECT\n",
    "*\n",
    "FROM \n",
    "    uc_test_02.schema_dyanamic_view.row_level_permissions"
   ]
  },
  {
   "cell_type": "code",
   "execution_count": 0,
   "metadata": {
    "application/vnd.databricks.v1+cell": {
     "cellMetadata": {},
     "inputWidgets": {},
     "nuid": "b8d8c175-8ce6-4a78-aea3-e1089752a83e",
     "showTitle": false,
     "title": ""
    }
   },
   "outputs": [],
   "source": [
    "## S4 ユースケース別ワークフローの検証"
   ]
  },
  {
   "cell_type": "code",
   "execution_count": 0,
   "metadata": {
    "application/vnd.databricks.v1+cell": {
     "cellMetadata": {},
     "inputWidgets": {},
     "nuid": "42a95814-9b53-4354-8268-4c3ce0b468ed",
     "showTitle": false,
     "title": ""
    }
   },
   "outputs": [],
   "source": [
    "### S4-1 カタログの払出検証"
   ]
  },
  {
   "cell_type": "code",
   "execution_count": 0,
   "metadata": {
    "application/vnd.databricks.v1+cell": {
     "cellMetadata": {
      "byteLimit": 2048000,
      "rowLimit": 10000
     },
     "inputWidgets": {},
     "nuid": "f6e4ba00-87cd-4e38-9db6-c9919173a624",
     "showTitle": false,
     "title": ""
    }
   },
   "outputs": [],
   "source": [
    "%sql\n",
    "DESCRIBE CATALOG uc_test_50"
   ]
  },
  {
   "cell_type": "code",
   "execution_count": 0,
   "metadata": {
    "application/vnd.databricks.v1+cell": {
     "cellMetadata": {
      "byteLimit": 2048000,
      "rowLimit": 10000
     },
     "inputWidgets": {},
     "nuid": "19973957-df6f-4d56-9517-2c96fc178349",
     "showTitle": false,
     "title": ""
    }
   },
   "outputs": [],
   "source": [
    "%sql\n",
    "-- スキーマを作成できることを確認\n",
    "CREATE SCHEMA IF NOT EXISTS uc_test_50.schema_01;\n",
    "ALTER SCHEMA uc_test_50.schema_01 OWNER TO uc_test_all_read;"
   ]
  },
  {
   "cell_type": "code",
   "execution_count": 0,
   "metadata": {
    "application/vnd.databricks.v1+cell": {
     "cellMetadata": {
      "byteLimit": 2048000,
      "rowLimit": 10000
     },
     "inputWidgets": {},
     "nuid": "e4d27c42-f544-4ae6-a948-9758c500577b",
     "showTitle": false,
     "title": ""
    }
   },
   "outputs": [],
   "source": [
    "%sql\n",
    "DESCRIBE SCHEMA uc_test_50.schema_01"
   ]
  },
  {
   "cell_type": "code",
   "execution_count": 0,
   "metadata": {
    "application/vnd.databricks.v1+cell": {
     "cellMetadata": {},
     "inputWidgets": {},
     "nuid": "437151a2-b2e7-439d-86da-f486a21df85d",
     "showTitle": false,
     "title": ""
    }
   },
   "outputs": [],
   "source": [
    "### S4-2 スキーマの払出検証"
   ]
  },
  {
   "cell_type": "code",
   "execution_count": 0,
   "metadata": {
    "application/vnd.databricks.v1+cell": {
     "cellMetadata": {
      "byteLimit": 2048000,
      "rowLimit": 10000
     },
     "inputWidgets": {},
     "nuid": "24b7c376-e69d-422d-a6f1-ad64998008eb",
     "showTitle": false,
     "title": ""
    }
   },
   "outputs": [],
   "source": [
    "%sql\n",
    "DESCRIBE SCHEMA uc_test_51.schema_01"
   ]
  },
  {
   "cell_type": "code",
   "execution_count": 0,
   "metadata": {
    "application/vnd.databricks.v1+cell": {
     "cellMetadata": {
      "byteLimit": 2048000,
      "rowLimit": 10000
     },
     "inputWidgets": {},
     "nuid": "b4715e2b-5bb4-49a8-a33e-77c9e0ec1b03",
     "showTitle": false,
     "title": ""
    }
   },
   "outputs": [],
   "source": [
    "%sql\n",
    "-- テーブルを作成できることを確認\n",
    "CREATE OR REPLACE TABLE uc_test_51.schema_01.table_01\n",
    "AS\n",
    "SELECT\n",
    "  \"efg\" AS string_col\n",
    "  ,3::int AS int_col\n",
    "  ,CAST('2022-01-01' AS date) AS date_col"
   ]
  },
  {
   "cell_type": "code",
   "execution_count": 0,
   "metadata": {
    "application/vnd.databricks.v1+cell": {
     "cellMetadata": {
      "byteLimit": 2048000,
      "rowLimit": 10000
     },
     "inputWidgets": {},
     "nuid": "1729497f-3ca5-4a22-b743-24808fef3d55",
     "showTitle": false,
     "title": ""
    }
   },
   "outputs": [],
   "source": [
    "%sql\n",
    "SELECT\n",
    "*\n",
    "FROM\n",
    "  uc_test_51.schema_01.table_01"
   ]
  },
  {
   "cell_type": "code",
   "execution_count": 0,
   "metadata": {
    "application/vnd.databricks.v1+cell": {
     "cellMetadata": {},
     "inputWidgets": {},
     "nuid": "313442f1-09a4-433a-8fc8-435232f9e3e1",
     "showTitle": false,
     "title": ""
    }
   },
   "outputs": [],
   "source": [
    "## S9 リソースの削除"
   ]
  }
 ],
 "metadata": {
  "application/vnd.databricks.v1+notebook": {
   "dashboards": [],
   "language": "python",
   "notebookMetadata": {
    "pythonIndentUnit": 4
   },
   "notebookName": "T01_user__uc_basic",
   "widgets": {}
  }
 },
 "nbformat": 4,
 "nbformat_minor": 0
}
